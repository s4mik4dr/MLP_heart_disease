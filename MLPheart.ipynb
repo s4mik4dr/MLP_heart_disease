{
 "cells": [
  {
   "cell_type": "markdown",
   "id": "315fa23c-14a8-4712-9dee-3d4deb65e42a",
   "metadata": {},
   "source": [
    "# Многослойный перцептрон"
   ]
  },
  {
   "cell_type": "markdown",
   "id": "2ba2b5c8-2838-4524-aaf7-95b6467bf3de",
   "metadata": {},
   "source": [
    "## Проверка на CUDA"
   ]
  },
  {
   "cell_type": "code",
   "execution_count": 1,
   "id": "f02e3e64-2448-4550-b196-6e4fb3ed3529",
   "metadata": {},
   "outputs": [
    {
     "name": "stdout",
     "output_type": "stream",
     "text": [
      "Версия PyTorch: 2.4.1+cu118\n",
      "Версия CUDA, используемая PyTorch: 11.8\n",
      "Доступен ли GPU: True\n",
      "Имя GPU: NVIDIA GeForce RTX 2060 SUPER\n"
     ]
    }
   ],
   "source": [
    "import torch\n",
    "print(\"Версия PyTorch:\", torch.__version__)\n",
    "print(\"Версия CUDA, используемая PyTorch:\", torch.version.cuda)\n",
    "print(\"Доступен ли GPU:\", torch.cuda.is_available())\n",
    "if torch.cuda.is_available():\n",
    "    print(\"Имя GPU:\", torch.cuda.get_device_name(torch.cuda.current_device()))"
   ]
  },
  {
   "cell_type": "code",
   "execution_count": 2,
   "id": "cf41df0b-18a0-4154-a5c9-2e02f551c4a9",
   "metadata": {},
   "outputs": [],
   "source": [
    "import pandas as pd\n",
    "import numpy as np\n",
    "import torch\n",
    "import torch.nn as nn\n",
    "import torch.optim as optim\n",
    "import pickle\n",
    "from sklearn.model_selection import train_test_split\n",
    "from sklearn.preprocessing import StandardScaler\n",
    "from torch.utils.data import TensorDataset, DataLoader\n",
    "from sklearn.metrics import accuracy_score, precision_score, recall_score, f1_score\n",
    "from sklearn.metrics import roc_curve, auc\n",
    "from sklearn.metrics import confusion_matrix, ConfusionMatrixDisplay"
   ]
  },
  {
   "cell_type": "markdown",
   "id": "f04a122d-e03d-4f8f-8647-17c354bfff43",
   "metadata": {},
   "source": [
    "## Шаг 1: Загрузка данных"
   ]
  },
  {
   "cell_type": "code",
   "execution_count": 3,
   "id": "02f44014-9ece-44ed-9431-8428d280795d",
   "metadata": {},
   "outputs": [],
   "source": [
    "data = pd.read_csv('heart.csv')"
   ]
  },
  {
   "cell_type": "markdown",
   "id": "f59d92ea-b654-4218-9875-5bb716d56abc",
   "metadata": {},
   "source": [
    "## Шаг 2: Идентификация категориальных столбцов"
   ]
  },
  {
   "cell_type": "code",
   "execution_count": 4,
   "id": "e36e60ca-b875-4fe7-887f-681a841d90cd",
   "metadata": {},
   "outputs": [],
   "source": [
    "categorical_cols = ['Sex', 'ChestPainType', 'RestingECG', 'ExerciseAngina', 'ST_Slope']\n",
    "\n",
    "# Сохранение уникальных значений категориальных столбцов\n",
    "unique_values = {}\n",
    "for col in categorical_cols:\n",
    "    unique_values[col] = data[col].unique()"
   ]
  },
  {
   "cell_type": "markdown",
   "id": "48ec5e9b-8d6c-42da-a8b6-221d80ade39b",
   "metadata": {},
   "source": [
    "## Шаг 3: Преобразование категориальных переменных"
   ]
  },
  {
   "cell_type": "code",
   "execution_count": 5,
   "id": "bb018eb1-f749-4566-8f11-760b0e6d8a9e",
   "metadata": {},
   "outputs": [],
   "source": [
    "data = pd.get_dummies(data, columns=categorical_cols)\n",
    "\n",
    "# Сохранение списка признаков после кодирования\n",
    "feature_columns = data.drop('HeartDisease', axis=1).columns.tolist()"
   ]
  },
  {
   "cell_type": "markdown",
   "id": "5268aed5-bd4f-4637-8e09-e57205973004",
   "metadata": {},
   "source": [
    "## Шаг 4: Подготовка признаков и целевой переменной"
   ]
  },
  {
   "cell_type": "code",
   "execution_count": 6,
   "id": "fe43575f-e659-4bf2-bb55-d0c139c7713e",
   "metadata": {},
   "outputs": [],
   "source": [
    "X = data.drop('HeartDisease', axis=1)\n",
    "y = data['HeartDisease']"
   ]
  },
  {
   "cell_type": "markdown",
   "id": "87033f36-baf5-463a-9305-191ed0e02432",
   "metadata": {},
   "source": [
    "## Шаг 5: Разделение данных"
   ]
  },
  {
   "cell_type": "code",
   "execution_count": 7,
   "id": "81a02e83-ef5f-4832-810d-45454ee45979",
   "metadata": {},
   "outputs": [],
   "source": [
    "X_train, X_test, y_train, y_test = train_test_split(X, y, test_size=0.2, random_state=42)"
   ]
  },
  {
   "cell_type": "markdown",
   "id": "be66e2dc-ae45-4ba9-9fc6-43cd65c59f0f",
   "metadata": {},
   "source": [
    "## Шаг 6: Масштабирование данных"
   ]
  },
  {
   "cell_type": "code",
   "execution_count": 8,
   "id": "b20dbc61-27d6-4ebf-b406-abd5c0698805",
   "metadata": {},
   "outputs": [],
   "source": [
    "scaler = StandardScaler()\n",
    "X_train = scaler.fit_transform(X_train)\n",
    "X_test = scaler.transform(X_test)\n",
    "\n",
    "# Сохранение скейлера\n",
    "with open('scaler.pkl', 'wb') as f:\n",
    "    pickle.dump(scaler, f)"
   ]
  },
  {
   "cell_type": "markdown",
   "id": "7cf7fe77-6a8a-4224-acad-35d09c82b7d0",
   "metadata": {},
   "source": [
    "## Шаг 7: Преобразование данных в тензоры"
   ]
  },
  {
   "cell_type": "code",
   "execution_count": 9,
   "id": "2bc2fe78-b330-4833-ab29-62101a40f22a",
   "metadata": {},
   "outputs": [
    {
     "name": "stdout",
     "output_type": "stream",
     "text": [
      "Используемое устройство: cuda\n"
     ]
    }
   ],
   "source": [
    "device = torch.device('cuda' if torch.cuda.is_available() else 'cpu')\n",
    "print(\"Используемое устройство:\", device)\n",
    "\n",
    "X_train_tensor = torch.tensor(X_train, dtype=torch.float32).to(device)\n",
    "y_train_tensor = torch.tensor(y_train.values, dtype=torch.float32).unsqueeze(1).to(device)\n",
    "X_test_tensor = torch.tensor(X_test, dtype=torch.float32).to(device)\n",
    "y_test_tensor = torch.tensor(y_test.values, dtype=torch.float32).unsqueeze(1).to(device)"
   ]
  },
  {
   "cell_type": "markdown",
   "id": "c3bc2278-2707-44c3-86f0-2afa6159f252",
   "metadata": {},
   "source": [
    "## Шаг 8: Создание DataLoader"
   ]
  },
  {
   "cell_type": "code",
   "execution_count": 10,
   "id": "bececa9e-7afc-48cb-b2ba-bc88fd4e2af7",
   "metadata": {},
   "outputs": [],
   "source": [
    "train_dataset = TensorDataset(X_train_tensor, y_train_tensor)\n",
    "train_loader = DataLoader(train_dataset, batch_size=32, shuffle=True)"
   ]
  },
  {
   "cell_type": "markdown",
   "id": "94facc44-b4b8-443f-8f59-90db1ed3e620",
   "metadata": {},
   "source": [
    "## Шаг 9: Определение модели"
   ]
  },
  {
   "cell_type": "code",
   "execution_count": 11,
   "id": "b5c07fdc-8dab-4032-ae40-f69b3ce2ef20",
   "metadata": {},
   "outputs": [],
   "source": [
    "class HeartNet(nn.Module):\n",
    "    def __init__(self, input_size):\n",
    "        super(HeartNet, self).__init__()\n",
    "        self.fc1 = nn.Linear(input_size, 32)\n",
    "        self.fc2 = nn.Linear(32, 16)\n",
    "        self.out = nn.Linear(16, 1)\n",
    "        \n",
    "    def forward(self, x):\n",
    "        x = torch.relu(self.fc1(x))\n",
    "        x = torch.relu(self.fc2(x))\n",
    "        x = torch.sigmoid(self.out(x))\n",
    "        return x\n",
    "\n",
    "input_size = X_train.shape[1]\n",
    "model = HeartNet(input_size).to(device)"
   ]
  },
  {
   "cell_type": "markdown",
   "id": "4dacd2d8-a7b9-453b-b90e-0ed3fc926359",
   "metadata": {},
   "source": [
    "## Шаг 10: Определение функции потерь и оптимизатора"
   ]
  },
  {
   "cell_type": "code",
   "execution_count": 12,
   "id": "7ea145d7-1a14-4a50-af76-bf71ccd92885",
   "metadata": {},
   "outputs": [],
   "source": [
    "criterion = nn.BCELoss()\n",
    "optimizer = optim.Adam(model.parameters(), lr=0.001)"
   ]
  },
  {
   "cell_type": "markdown",
   "id": "f581aad3-1dee-46b5-b597-6db48e04c6e1",
   "metadata": {},
   "source": [
    "## Шаг 11: Обучение модели"
   ]
  },
  {
   "cell_type": "code",
   "execution_count": 13,
   "id": "9e184f69-f5ce-46d0-a0ed-39ddb4339dee",
   "metadata": {},
   "outputs": [
    {
     "name": "stdout",
     "output_type": "stream",
     "text": [
      "Epoch [1/200], Loss: 0.6556, Accuracy: 0.5736\n",
      "Epoch [2/200], Loss: 0.5890, Accuracy: 0.7439\n",
      "Epoch [3/200], Loss: 0.4993, Accuracy: 0.8379\n",
      "Epoch [4/200], Loss: 0.4086, Accuracy: 0.8569\n",
      "Epoch [5/200], Loss: 0.3526, Accuracy: 0.8665\n",
      "Epoch [6/200], Loss: 0.3301, Accuracy: 0.8719\n",
      "Epoch [7/200], Loss: 0.3194, Accuracy: 0.8774\n",
      "Epoch [8/200], Loss: 0.3138, Accuracy: 0.8787\n",
      "Epoch [9/200], Loss: 0.3094, Accuracy: 0.8801\n",
      "Epoch [10/200], Loss: 0.3061, Accuracy: 0.8815\n",
      "Epoch [11/200], Loss: 0.3015, Accuracy: 0.8828\n",
      "Epoch [12/200], Loss: 0.2994, Accuracy: 0.8828\n",
      "Epoch [13/200], Loss: 0.2961, Accuracy: 0.8842\n",
      "Epoch [14/200], Loss: 0.2932, Accuracy: 0.8856\n",
      "Epoch [15/200], Loss: 0.2907, Accuracy: 0.8869\n",
      "Epoch [16/200], Loss: 0.2887, Accuracy: 0.8896\n",
      "Epoch [17/200], Loss: 0.2863, Accuracy: 0.8883\n",
      "Epoch [18/200], Loss: 0.2836, Accuracy: 0.8896\n",
      "Epoch [19/200], Loss: 0.2820, Accuracy: 0.8924\n",
      "Epoch [20/200], Loss: 0.2795, Accuracy: 0.8896\n",
      "Epoch [21/200], Loss: 0.2776, Accuracy: 0.8910\n",
      "Epoch [22/200], Loss: 0.2755, Accuracy: 0.8910\n",
      "Epoch [23/200], Loss: 0.2738, Accuracy: 0.8896\n",
      "Epoch [24/200], Loss: 0.2713, Accuracy: 0.8910\n",
      "Epoch [25/200], Loss: 0.2695, Accuracy: 0.8924\n",
      "Epoch [26/200], Loss: 0.2682, Accuracy: 0.8965\n",
      "Epoch [27/200], Loss: 0.2667, Accuracy: 0.8924\n",
      "Epoch [28/200], Loss: 0.2632, Accuracy: 0.8937\n",
      "Epoch [29/200], Loss: 0.2616, Accuracy: 0.8924\n",
      "Epoch [30/200], Loss: 0.2599, Accuracy: 0.8992\n",
      "Epoch [31/200], Loss: 0.2579, Accuracy: 0.9005\n",
      "Epoch [32/200], Loss: 0.2543, Accuracy: 0.9019\n",
      "Epoch [33/200], Loss: 0.2538, Accuracy: 0.9019\n",
      "Epoch [34/200], Loss: 0.2503, Accuracy: 0.9033\n",
      "Epoch [35/200], Loss: 0.2494, Accuracy: 0.9005\n",
      "Epoch [36/200], Loss: 0.2474, Accuracy: 0.9033\n",
      "Epoch [37/200], Loss: 0.2449, Accuracy: 0.9046\n",
      "Epoch [38/200], Loss: 0.2427, Accuracy: 0.9033\n",
      "Epoch [39/200], Loss: 0.2408, Accuracy: 0.9074\n",
      "Epoch [40/200], Loss: 0.2389, Accuracy: 0.9046\n",
      "Epoch [41/200], Loss: 0.2366, Accuracy: 0.9074\n",
      "Epoch [42/200], Loss: 0.2351, Accuracy: 0.9060\n",
      "Epoch [43/200], Loss: 0.2346, Accuracy: 0.9087\n",
      "Epoch [44/200], Loss: 0.2324, Accuracy: 0.9128\n",
      "Epoch [45/200], Loss: 0.2297, Accuracy: 0.9101\n",
      "Epoch [46/200], Loss: 0.2277, Accuracy: 0.9101\n",
      "Epoch [47/200], Loss: 0.2256, Accuracy: 0.9128\n",
      "Epoch [48/200], Loss: 0.2227, Accuracy: 0.9114\n",
      "Epoch [49/200], Loss: 0.2217, Accuracy: 0.9128\n",
      "Epoch [50/200], Loss: 0.2203, Accuracy: 0.9114\n",
      "Epoch [51/200], Loss: 0.2206, Accuracy: 0.9128\n",
      "Epoch [52/200], Loss: 0.2167, Accuracy: 0.9101\n",
      "Epoch [53/200], Loss: 0.2155, Accuracy: 0.9142\n",
      "Epoch [54/200], Loss: 0.2136, Accuracy: 0.9142\n",
      "Epoch [55/200], Loss: 0.2139, Accuracy: 0.9155\n",
      "Epoch [56/200], Loss: 0.2119, Accuracy: 0.9169\n",
      "Epoch [57/200], Loss: 0.2086, Accuracy: 0.9142\n",
      "Epoch [58/200], Loss: 0.2089, Accuracy: 0.9196\n",
      "Epoch [59/200], Loss: 0.2073, Accuracy: 0.9169\n",
      "Epoch [60/200], Loss: 0.2049, Accuracy: 0.9183\n",
      "Epoch [61/200], Loss: 0.2032, Accuracy: 0.9183\n",
      "Epoch [62/200], Loss: 0.2025, Accuracy: 0.9223\n",
      "Epoch [63/200], Loss: 0.2007, Accuracy: 0.9223\n",
      "Epoch [64/200], Loss: 0.1980, Accuracy: 0.9210\n",
      "Epoch [65/200], Loss: 0.1963, Accuracy: 0.9264\n",
      "Epoch [66/200], Loss: 0.1944, Accuracy: 0.9237\n",
      "Epoch [67/200], Loss: 0.1942, Accuracy: 0.9237\n",
      "Epoch [68/200], Loss: 0.1925, Accuracy: 0.9237\n",
      "Epoch [69/200], Loss: 0.1911, Accuracy: 0.9264\n",
      "Epoch [70/200], Loss: 0.1896, Accuracy: 0.9305\n",
      "Epoch [71/200], Loss: 0.1877, Accuracy: 0.9346\n",
      "Epoch [72/200], Loss: 0.1869, Accuracy: 0.9305\n",
      "Epoch [73/200], Loss: 0.1843, Accuracy: 0.9346\n",
      "Epoch [74/200], Loss: 0.1859, Accuracy: 0.9305\n",
      "Epoch [75/200], Loss: 0.1827, Accuracy: 0.9346\n",
      "Epoch [76/200], Loss: 0.1825, Accuracy: 0.9346\n",
      "Epoch [77/200], Loss: 0.1822, Accuracy: 0.9319\n",
      "Epoch [78/200], Loss: 0.1786, Accuracy: 0.9346\n",
      "Epoch [79/200], Loss: 0.1765, Accuracy: 0.9360\n",
      "Epoch [80/200], Loss: 0.1763, Accuracy: 0.9360\n",
      "Epoch [81/200], Loss: 0.1760, Accuracy: 0.9346\n",
      "Epoch [82/200], Loss: 0.1739, Accuracy: 0.9360\n",
      "Epoch [83/200], Loss: 0.1717, Accuracy: 0.9414\n",
      "Epoch [84/200], Loss: 0.1729, Accuracy: 0.9373\n",
      "Epoch [85/200], Loss: 0.1710, Accuracy: 0.9360\n",
      "Epoch [86/200], Loss: 0.1675, Accuracy: 0.9401\n",
      "Epoch [87/200], Loss: 0.1671, Accuracy: 0.9441\n",
      "Epoch [88/200], Loss: 0.1658, Accuracy: 0.9401\n",
      "Epoch [89/200], Loss: 0.1634, Accuracy: 0.9387\n",
      "Epoch [90/200], Loss: 0.1622, Accuracy: 0.9428\n",
      "Epoch [91/200], Loss: 0.1608, Accuracy: 0.9428\n",
      "Epoch [92/200], Loss: 0.1600, Accuracy: 0.9414\n",
      "Epoch [93/200], Loss: 0.1587, Accuracy: 0.9414\n",
      "Epoch [94/200], Loss: 0.1580, Accuracy: 0.9441\n",
      "Epoch [95/200], Loss: 0.1567, Accuracy: 0.9401\n",
      "Epoch [96/200], Loss: 0.1559, Accuracy: 0.9455\n",
      "Epoch [97/200], Loss: 0.1528, Accuracy: 0.9441\n",
      "Epoch [98/200], Loss: 0.1514, Accuracy: 0.9455\n",
      "Epoch [99/200], Loss: 0.1523, Accuracy: 0.9441\n",
      "Epoch [100/200], Loss: 0.1491, Accuracy: 0.9482\n",
      "Epoch [101/200], Loss: 0.1473, Accuracy: 0.9482\n",
      "Epoch [102/200], Loss: 0.1471, Accuracy: 0.9496\n",
      "Epoch [103/200], Loss: 0.1475, Accuracy: 0.9469\n",
      "Epoch [104/200], Loss: 0.1453, Accuracy: 0.9510\n",
      "Epoch [105/200], Loss: 0.1431, Accuracy: 0.9550\n",
      "Epoch [106/200], Loss: 0.1411, Accuracy: 0.9482\n",
      "Epoch [107/200], Loss: 0.1408, Accuracy: 0.9523\n",
      "Epoch [108/200], Loss: 0.1402, Accuracy: 0.9523\n",
      "Epoch [109/200], Loss: 0.1384, Accuracy: 0.9510\n",
      "Epoch [110/200], Loss: 0.1363, Accuracy: 0.9564\n",
      "Epoch [111/200], Loss: 0.1348, Accuracy: 0.9537\n",
      "Epoch [112/200], Loss: 0.1354, Accuracy: 0.9496\n",
      "Epoch [113/200], Loss: 0.1321, Accuracy: 0.9523\n",
      "Epoch [114/200], Loss: 0.1320, Accuracy: 0.9537\n",
      "Epoch [115/200], Loss: 0.1298, Accuracy: 0.9550\n",
      "Epoch [116/200], Loss: 0.1294, Accuracy: 0.9550\n",
      "Epoch [117/200], Loss: 0.1272, Accuracy: 0.9578\n",
      "Epoch [118/200], Loss: 0.1276, Accuracy: 0.9550\n",
      "Epoch [119/200], Loss: 0.1270, Accuracy: 0.9537\n",
      "Epoch [120/200], Loss: 0.1254, Accuracy: 0.9550\n",
      "Epoch [121/200], Loss: 0.1246, Accuracy: 0.9523\n",
      "Epoch [122/200], Loss: 0.1237, Accuracy: 0.9578\n",
      "Epoch [123/200], Loss: 0.1205, Accuracy: 0.9591\n",
      "Epoch [124/200], Loss: 0.1194, Accuracy: 0.9537\n",
      "Epoch [125/200], Loss: 0.1190, Accuracy: 0.9578\n",
      "Epoch [126/200], Loss: 0.1169, Accuracy: 0.9578\n",
      "Epoch [127/200], Loss: 0.1168, Accuracy: 0.9591\n",
      "Epoch [128/200], Loss: 0.1152, Accuracy: 0.9564\n",
      "Epoch [129/200], Loss: 0.1135, Accuracy: 0.9578\n",
      "Epoch [130/200], Loss: 0.1114, Accuracy: 0.9619\n",
      "Epoch [131/200], Loss: 0.1131, Accuracy: 0.9550\n",
      "Epoch [132/200], Loss: 0.1100, Accuracy: 0.9632\n",
      "Epoch [133/200], Loss: 0.1104, Accuracy: 0.9591\n",
      "Epoch [134/200], Loss: 0.1093, Accuracy: 0.9591\n",
      "Epoch [135/200], Loss: 0.1077, Accuracy: 0.9591\n",
      "Epoch [136/200], Loss: 0.1053, Accuracy: 0.9632\n",
      "Epoch [137/200], Loss: 0.1053, Accuracy: 0.9632\n",
      "Epoch [138/200], Loss: 0.1045, Accuracy: 0.9659\n",
      "Epoch [139/200], Loss: 0.1032, Accuracy: 0.9605\n",
      "Epoch [140/200], Loss: 0.1009, Accuracy: 0.9619\n",
      "Epoch [141/200], Loss: 0.0998, Accuracy: 0.9632\n",
      "Epoch [142/200], Loss: 0.1001, Accuracy: 0.9632\n",
      "Epoch [143/200], Loss: 0.0986, Accuracy: 0.9646\n",
      "Epoch [144/200], Loss: 0.0969, Accuracy: 0.9659\n",
      "Epoch [145/200], Loss: 0.0966, Accuracy: 0.9700\n",
      "Epoch [146/200], Loss: 0.0966, Accuracy: 0.9673\n",
      "Epoch [147/200], Loss: 0.0937, Accuracy: 0.9714\n",
      "Epoch [148/200], Loss: 0.0928, Accuracy: 0.9700\n",
      "Epoch [149/200], Loss: 0.0909, Accuracy: 0.9714\n",
      "Epoch [150/200], Loss: 0.0910, Accuracy: 0.9700\n",
      "Epoch [151/200], Loss: 0.0907, Accuracy: 0.9659\n",
      "Epoch [152/200], Loss: 0.0889, Accuracy: 0.9700\n",
      "Epoch [153/200], Loss: 0.0873, Accuracy: 0.9714\n",
      "Epoch [154/200], Loss: 0.0864, Accuracy: 0.9728\n",
      "Epoch [155/200], Loss: 0.0858, Accuracy: 0.9728\n",
      "Epoch [156/200], Loss: 0.0848, Accuracy: 0.9714\n",
      "Epoch [157/200], Loss: 0.0843, Accuracy: 0.9755\n",
      "Epoch [158/200], Loss: 0.0834, Accuracy: 0.9755\n",
      "Epoch [159/200], Loss: 0.0831, Accuracy: 0.9728\n",
      "Epoch [160/200], Loss: 0.0817, Accuracy: 0.9755\n",
      "Epoch [161/200], Loss: 0.0811, Accuracy: 0.9755\n",
      "Epoch [162/200], Loss: 0.0787, Accuracy: 0.9782\n",
      "Epoch [163/200], Loss: 0.0798, Accuracy: 0.9782\n",
      "Epoch [164/200], Loss: 0.0797, Accuracy: 0.9755\n",
      "Epoch [165/200], Loss: 0.0778, Accuracy: 0.9741\n",
      "Epoch [166/200], Loss: 0.0759, Accuracy: 0.9796\n",
      "Epoch [167/200], Loss: 0.0753, Accuracy: 0.9796\n",
      "Epoch [168/200], Loss: 0.0756, Accuracy: 0.9782\n",
      "Epoch [169/200], Loss: 0.0753, Accuracy: 0.9768\n",
      "Epoch [170/200], Loss: 0.0734, Accuracy: 0.9809\n",
      "Epoch [171/200], Loss: 0.0711, Accuracy: 0.9796\n",
      "Epoch [172/200], Loss: 0.0700, Accuracy: 0.9823\n",
      "Epoch [173/200], Loss: 0.0697, Accuracy: 0.9823\n",
      "Epoch [174/200], Loss: 0.0732, Accuracy: 0.9741\n",
      "Epoch [175/200], Loss: 0.0735, Accuracy: 0.9768\n",
      "Epoch [176/200], Loss: 0.0687, Accuracy: 0.9796\n",
      "Epoch [177/200], Loss: 0.0667, Accuracy: 0.9809\n",
      "Epoch [178/200], Loss: 0.0671, Accuracy: 0.9768\n",
      "Epoch [179/200], Loss: 0.0671, Accuracy: 0.9796\n",
      "Epoch [180/200], Loss: 0.0656, Accuracy: 0.9796\n",
      "Epoch [181/200], Loss: 0.0644, Accuracy: 0.9823\n",
      "Epoch [182/200], Loss: 0.0640, Accuracy: 0.9796\n",
      "Epoch [183/200], Loss: 0.0627, Accuracy: 0.9837\n",
      "Epoch [184/200], Loss: 0.0614, Accuracy: 0.9809\n",
      "Epoch [185/200], Loss: 0.0620, Accuracy: 0.9809\n",
      "Epoch [186/200], Loss: 0.0605, Accuracy: 0.9796\n",
      "Epoch [187/200], Loss: 0.0611, Accuracy: 0.9823\n",
      "Epoch [188/200], Loss: 0.0587, Accuracy: 0.9823\n",
      "Epoch [189/200], Loss: 0.0580, Accuracy: 0.9837\n",
      "Epoch [190/200], Loss: 0.0583, Accuracy: 0.9823\n",
      "Epoch [191/200], Loss: 0.0584, Accuracy: 0.9796\n",
      "Epoch [192/200], Loss: 0.0571, Accuracy: 0.9809\n",
      "Epoch [193/200], Loss: 0.0551, Accuracy: 0.9837\n",
      "Epoch [194/200], Loss: 0.0550, Accuracy: 0.9837\n",
      "Epoch [195/200], Loss: 0.0545, Accuracy: 0.9837\n",
      "Epoch [196/200], Loss: 0.0548, Accuracy: 0.9837\n",
      "Epoch [197/200], Loss: 0.0541, Accuracy: 0.9823\n",
      "Epoch [198/200], Loss: 0.0544, Accuracy: 0.9809\n",
      "Epoch [199/200], Loss: 0.0524, Accuracy: 0.9837\n",
      "Epoch [200/200], Loss: 0.0525, Accuracy: 0.9823\n"
     ]
    }
   ],
   "source": [
    "num_epochs = 200\n",
    "train_losses = []\n",
    "train_accuracies = []\n",
    "\n",
    "for epoch in range(num_epochs):\n",
    "    model.train()\n",
    "    running_loss = 0.0\n",
    "    correct_predictions = 0\n",
    "    total_predictions = 0\n",
    "    \n",
    "    for inputs, labels in train_loader:\n",
    "        optimizer.zero_grad()\n",
    "        outputs = model(inputs)\n",
    "        loss = criterion(outputs, labels)\n",
    "        loss.backward()\n",
    "        optimizer.step()\n",
    "        \n",
    "        running_loss += loss.item() * inputs.size(0)\n",
    "        \n",
    "        # Для вычисления точности на обучающей выборке\n",
    "        preds = (outputs > 0.5).float()\n",
    "        correct_predictions += (preds == labels).sum().item()\n",
    "        total_predictions += labels.size(0)\n",
    "    \n",
    "    epoch_loss = running_loss / len(train_loader.dataset)\n",
    "    epoch_accuracy = correct_predictions / total_predictions\n",
    "    \n",
    "    train_losses.append(epoch_loss)\n",
    "    train_accuracies.append(epoch_accuracy)\n",
    "    \n",
    "    print(f'Epoch [{epoch+1}/{num_epochs}], Loss: {epoch_loss:.4f}, Accuracy: {epoch_accuracy:.4f}')"
   ]
  },
  {
   "cell_type": "markdown",
   "id": "44409038-9417-4987-b18a-4f6e6aae7f9e",
   "metadata": {},
   "source": [
    "## Шаг 12: Оценка модели"
   ]
  },
  {
   "cell_type": "code",
   "execution_count": 14,
   "id": "99a7aca5-d84d-4248-a81a-a31cc662ed8a",
   "metadata": {},
   "outputs": [
    {
     "name": "stdout",
     "output_type": "stream",
     "text": [
      "\n",
      "Результаты оценки модели на тестовых данных:\n",
      "Accuracy (Точность): 83.70%\n",
      "Precision (Точность положительных предсказаний): 89.69%\n",
      "Recall (Полнота): 81.31%\n",
      "F1 Score: 85.29%\n"
     ]
    }
   ],
   "source": [
    "model.eval()\n",
    "with torch.no_grad():\n",
    "    outputs = model(X_test_tensor)\n",
    "    predicted = (outputs > 0.5).float()\n",
    "    \n",
    "    y_true = y_test_tensor.cpu().numpy()\n",
    "    y_pred = predicted.cpu().numpy()\n",
    "    y_scores = outputs.cpu().numpy()\n",
    "    \n",
    "    accuracy = accuracy_score(y_true, y_pred)\n",
    "    precision = precision_score(y_true, y_pred)\n",
    "    recall = recall_score(y_true, y_pred)\n",
    "    f1 = f1_score(y_true, y_pred)\n",
    "    \n",
    "    print('\\nРезультаты оценки модели на тестовых данных:')\n",
    "    print(f'Accuracy (Точность): {accuracy * 100:.2f}%')\n",
    "    print(f'Precision (Точность положительных предсказаний): {precision * 100:.2f}%')\n",
    "    print(f'Recall (Полнота): {recall * 100:.2f}%')\n",
    "    print(f'F1 Score: {f1 * 100:.2f}%')"
   ]
  },
  {
   "cell_type": "markdown",
   "id": "5fd437ff-5115-4f74-bc75-b9677d1a721d",
   "metadata": {},
   "source": [
    "## Шаг 13: Сохранение модели"
   ]
  },
  {
   "cell_type": "code",
   "execution_count": 15,
   "id": "1b7fcc7a-fc32-4f20-8a42-351e19f40ea8",
   "metadata": {},
   "outputs": [],
   "source": [
    "# Сохранение state_dict модели\n",
    "torch.save(model.state_dict(), 'mlp_heartdisease_model.pth')\n",
    "\n",
    "# Сохранение списка признаков\n",
    "with open('feature_columns.pkl', 'wb') as f:\n",
    "    pickle.dump(feature_columns, f)\n",
    "\n",
    "# Сохранение уникальных значений категориальных признаков\n",
    "with open('unique_values.pkl', 'wb') as f:\n",
    "    pickle.dump(unique_values, f)"
   ]
  },
  {
   "cell_type": "markdown",
   "id": "7072e22d-efb3-4a7a-a50c-9ef205bf06fc",
   "metadata": {},
   "source": [
    "# Построение графиков"
   ]
  },
  {
   "cell_type": "code",
   "execution_count": 16,
   "id": "193eb41d-200d-4eb3-8e08-5baea6d8ca6f",
   "metadata": {},
   "outputs": [],
   "source": [
    "import matplotlib.pyplot as plt "
   ]
  },
  {
   "cell_type": "markdown",
   "id": "f7256541-d7df-4e0d-b536-426ed339c307",
   "metadata": {},
   "source": [
    "## График функции потерь по эпохам"
   ]
  },
  {
   "cell_type": "code",
   "execution_count": 17,
   "id": "aaab1e99-7c2c-4029-a6cf-89a65961af0f",
   "metadata": {},
   "outputs": [
    {
     "data": {
      "image/png": "[encoded data removed]",
      "text/plain": [
       "<Figure size 1000x600 with 1 Axes>"
      ]
     },
     "metadata": {},
     "output_type": "display_data"
    }
   ],
   "source": [
    "plt.figure(figsize=(10, 6))\n",
    "plt.plot(range(1, num_epochs + 1), train_losses, label='Training Loss')\n",
    "plt.xlabel('Эпоха')\n",
    "plt.ylabel('Потеря')\n",
    "plt.title('График функции потерь по эпохам')\n",
    "plt.legend()\n",
    "plt.grid(True)\n",
    "plt.savefig('training_loss_mlp.png')\n",
    "plt.show()"
   ]
  },
  {
   "cell_type": "markdown",
   "id": "8cd1c558-e5e5-4df5-b145-86a41b8322ad",
   "metadata": {},
   "source": [
    "## График точности по эпохам"
   ]
  },
  {
   "cell_type": "code",
   "execution_count": 18,
   "id": "3a69ee0a-ee4d-44a9-99ab-215f0d100d2b",
   "metadata": {},
   "outputs": [
    {
     "data": {
      "image/png": "[encoded data removed]",
      "text/plain": [
       "<Figure size 1000x600 with 1 Axes>"
      ]
     },
     "metadata": {},
     "output_type": "display_data"
    }
   ],
   "source": [
    "plt.figure(figsize=(10, 6))\n",
    "plt.plot(range(1, num_epochs + 1), train_accuracies, label='Training Accuracy')\n",
    "plt.xlabel('Эпоха')\n",
    "plt.ylabel('Точность')\n",
    "plt.title('График точности по эпохам')\n",
    "plt.legend()\n",
    "plt.grid(True)\n",
    "plt.savefig('training_accuracy_mlp.png')\n",
    "plt.show()"
   ]
  },
  {
   "cell_type": "markdown",
   "id": "47d2be47-c68d-4219-9325-4f96c31e9ae6",
   "metadata": {},
   "source": [
    "## ROC-кривая и AUC"
   ]
  },
  {
   "cell_type": "code",
   "execution_count": 19,
   "id": "0bf7f6c7-5da8-4197-a2e5-62f2683d5233",
   "metadata": {},
   "outputs": [
    {
     "data": {
      "image/png": "[encoded data removed]",
      "text/plain": [
       "<Figure size 1000x600 with 1 Axes>"
      ]
     },
     "metadata": {},
     "output_type": "display_data"
    }
   ],
   "source": [
    "fpr, tpr, thresholds = roc_curve(y_true, y_scores)\n",
    "roc_auc = auc(fpr, tpr)\n",
    "\n",
    "plt.figure(figsize=(10, 6))\n",
    "plt.plot(fpr, tpr, label=f'ROC-кривая (AUC = {roc_auc:.2f})')\n",
    "plt.plot([0, 1], [0, 1], 'k--')\n",
    "plt.xlabel('False Positive Rate')\n",
    "plt.ylabel('True Positive Rate')\n",
    "plt.title('ROC-кривая')\n",
    "plt.legend(loc='lower right')\n",
    "plt.grid(True)\n",
    "plt.savefig('roc_curve_mlp.png')\n",
    "plt.show()"
   ]
  },
  {
   "cell_type": "markdown",
   "id": "4498d4d4-a99f-471e-ae4f-1ea28d751ab6",
   "metadata": {},
   "source": [
    "## Матрица ошибок (Confusion Matrix)"
   ]
  },
  {
   "cell_type": "code",
   "execution_count": 20,
   "id": "a39716be-dc87-4196-b4ab-70540af7e3fe",
   "metadata": {},
   "outputs": [
    {
     "data": {
      "image/png": "[encoded data removed]",
      "text/plain": [
       "<Figure size 640x480 with 2 Axes>"
      ]
     },
     "metadata": {},
     "output_type": "display_data"
    }
   ],
   "source": [
    "cm = confusion_matrix(y_true, y_pred)\n",
    "disp = ConfusionMatrixDisplay(confusion_matrix=cm)\n",
    "disp.plot(cmap=plt.cm.Blues)\n",
    "plt.title('Матрица ошибок на тестовых данных')\n",
    "plt.savefig('confusion_matrix_mlp.png')\n",
    "plt.show()"
   ]
  },
  {
   "cell_type": "markdown",
   "id": "483090d5-0a87-4e2f-919f-89bc956f3d2a",
   "metadata": {},
   "source": [
    "# Ввод данных пользователя и предсказание"
   ]
  },
  {
   "cell_type": "markdown",
   "id": "5c474c8f-92ac-42f7-aaba-7b8f903326ae",
   "metadata": {},
   "source": [
    "## Шаг 1: Загрузка сохранённой модели и необходимых объектов"
   ]
  },
  {
   "cell_type": "code",
   "execution_count": 21,
   "id": "11607d27-5cb4-46eb-bd05-efebe1fa892b",
   "metadata": {},
   "outputs": [
    {
     "name": "stderr",
     "output_type": "stream",
     "text": [
      "C:\\Users\\Rusod\\AppData\\Local\\Temp\\ipykernel_4136\\4030106822.py:29: FutureWarning: You are using `torch.load` with `weights_only=False` (the current default value), which uses the default pickle module implicitly. It is possible to construct malicious pickle data which will execute arbitrary code during unpickling (See https://github.com/pytorch/pytorch/blob/main/SECURITY.md#untrusted-models for more details). In a future release, the default value for `weights_only` will be flipped to `True`. This limits the functions that could be executed during unpickling. Arbitrary objects will no longer be allowed to be loaded via this mode unless they are explicitly allowlisted by the user via `torch.serialization.add_safe_globals`. We recommend you start setting `weights_only=True` for any use case where you don't have full control of the loaded file. Please open an issue on GitHub for any issues related to this experimental feature.\n",
      "  model.load_state_dict(torch.load('mlp_heartdisease_model.pth', map_location=torch.device('cpu')))\n"
     ]
    },
    {
     "data": {
      "text/plain": [
       "HeartNet(\n",
       "  (fc1): Linear(in_features=20, out_features=32, bias=True)\n",
       "  (fc2): Linear(in_features=32, out_features=16, bias=True)\n",
       "  (out): Linear(in_features=16, out_features=1, bias=True)\n",
       ")"
      ]
     },
     "execution_count": 21,
     "metadata": {},
     "output_type": "execute_result"
    }
   ],
   "source": [
    "class HeartNet(nn.Module):\n",
    "    def __init__(self, input_size):\n",
    "        super(HeartNet, self).__init__()\n",
    "        self.fc1 = nn.Linear(input_size, 32)\n",
    "        self.fc2 = nn.Linear(32, 16)\n",
    "        self.out = nn.Linear(16, 1)\n",
    "\n",
    "    def forward(self, x):\n",
    "        x = torch.relu(self.fc1(x))\n",
    "        x = torch.relu(self.fc2(x))\n",
    "        x = torch.sigmoid(self.out(x))\n",
    "        return x\n",
    "\n",
    "# Загрузка списка признаков\n",
    "with open('feature_columns.pkl', 'rb') as f:\n",
    "    feature_columns = pickle.load(f)\n",
    "\n",
    "# Загрузка уникальных значений категориальных признаков\n",
    "with open('unique_values.pkl', 'rb') as f:\n",
    "    unique_values = pickle.load(f)\n",
    "\n",
    "# Загрузка скейлера\n",
    "with open('scaler.pkl', 'rb') as f:\n",
    "    scaler = pickle.load(f)\n",
    "\n",
    "# Инициализация модели и загрузка сохранённых параметров\n",
    "input_size = len(feature_columns)\n",
    "model = HeartNet(input_size)\n",
    "model.load_state_dict(torch.load('mlp_heartdisease_model.pth', map_location=torch.device('cpu')))\n",
    "model.eval()"
   ]
  },
  {
   "cell_type": "markdown",
   "id": "f31882da-c73c-4871-a752-764692a176c0",
   "metadata": {},
   "source": [
    "## Шаг 2: Функция для запроса данных у пользователя"
   ]
  },
  {
   "cell_type": "code",
   "execution_count": 22,
   "id": "ecc8e3a2-629d-4261-9518-99158c23d8ce",
   "metadata": {},
   "outputs": [],
   "source": [
    "def get_user_input():\n",
    "    print(\"\\nВведите данные для определения сердечного заболевания:\")\n",
    "    user_data = {}\n",
    "\n",
    "    # Ввод числовых признаков\n",
    "    numerical_cols = [\n",
    "        ('Возраст', 'Age'),\n",
    "        ('Артериальное давление в покое', 'RestingBP'),\n",
    "        ('Уровень холестерина', 'Cholesterol'),\n",
    "        ('Уровень сахара натощак (1: > 120 мг/дл, 0: <= 120 мг/дл)', 'FastingBS'),\n",
    "        ('Максимальная ЧСС', 'MaxHR'),\n",
    "        ('Oldpeak (депрессия ST)', 'Oldpeak')\n",
    "    ]\n",
    "    for prompt, col in numerical_cols:\n",
    "        while True:\n",
    "            try:\n",
    "                value = float(input(f\"{prompt}: \"))\n",
    "                user_data[col] = [value]\n",
    "                break\n",
    "            except ValueError:\n",
    "                print(\"Пожалуйста, введите числовое значение.\")\n",
    "\n",
    "    # Маппинги для категориальных признаков\n",
    "    sex_mapping = {'М': 'M', 'Ж': 'F'}\n",
    "    chest_pain_mapping = {\n",
    "        'Типичная стенокардия': 'TA',\n",
    "        'Атипичная стенокардия': 'ATA',\n",
    "        'Неангинозная боль': 'NAP',\n",
    "        'Бессимптомная': 'ASY'\n",
    "    }\n",
    "    resting_ecg_mapping = {\n",
    "        'Нормальная': 'Normal',\n",
    "        'Аномалия ST-T': 'ST',\n",
    "        'Гипертрофия ЛЖ': 'LVH'\n",
    "    }\n",
    "    exercise_angina_mapping = {'Да': 'Y', 'Нет': 'N'}\n",
    "    st_slope_mapping = {\n",
    "        'Восходящий': 'Up',\n",
    "        'Горизонтальный': 'Flat',\n",
    "        'Нисходящий': 'Down'\n",
    "    }\n",
    "\n",
    "    # Ввод категориальных признаков\n",
    "    categorical_cols = [\n",
    "        ('Пол', 'Sex', sex_mapping),\n",
    "        ('Тип боли в груди', 'ChestPainType', chest_pain_mapping),\n",
    "        ('ЭКГ в покое', 'RestingECG', resting_ecg_mapping),\n",
    "        ('Стенокардия при нагрузке', 'ExerciseAngina', exercise_angina_mapping),\n",
    "        ('Наклон сегмента ST', 'ST_Slope', st_slope_mapping)\n",
    "    ]\n",
    "    for prompt, col, mapping in categorical_cols:\n",
    "        options = list(mapping.keys())\n",
    "        print(f\"Доступные варианты для {prompt}: {options}\")\n",
    "        value = input(f\"{prompt}: \").strip()\n",
    "        while value not in options:\n",
    "            print(f\"Некорректное значение. Пожалуйста, выберите из {options}\")\n",
    "            value = input(f\"{prompt}: \").strip()\n",
    "        user_data[col] = [mapping[value]]\n",
    "\n",
    "    # Создание DataFrame\n",
    "    user_df = pd.DataFrame(user_data)\n",
    "    return user_df"
   ]
  },
  {
   "cell_type": "markdown",
   "id": "92c2e5ce-323b-40fe-b63e-bdcc91b944a1",
   "metadata": {},
   "source": [
    "## Шаг 3: Получение и предобработка пользовательских данных"
   ]
  },
  {
   "cell_type": "code",
   "execution_count": 23,
   "id": "899d9af8-35a8-48e9-b44e-88d9b75efdfc",
   "metadata": {},
   "outputs": [
    {
     "name": "stdout",
     "output_type": "stream",
     "text": [
      "\n",
      "Введите данные для определения сердечного заболевания:\n"
     ]
    },
    {
     "name": "stdin",
     "output_type": "stream",
     "text": [
      "Возраст:  43\n",
      "Артериальное давление в покое:  140\n",
      "Уровень холестерина:  243\n",
      "Уровень сахара натощак (1: > 120 мг/дл, 0: <= 120 мг/дл):  0\n",
      "Максимальная ЧСС:  93\n",
      "Oldpeak (депрессия ST):  1\n"
     ]
    },
    {
     "name": "stdout",
     "output_type": "stream",
     "text": [
      "Доступные варианты для Пол: ['М', 'Ж']\n"
     ]
    },
    {
     "name": "stdin",
     "output_type": "stream",
     "text": [
      "Пол:  М\n"
     ]
    },
    {
     "name": "stdout",
     "output_type": "stream",
     "text": [
      "Доступные варианты для Тип боли в груди: ['Типичная стенокардия', 'Атипичная стенокардия', 'Неангинозная боль', 'Бессимптомная']\n"
     ]
    },
    {
     "name": "stdin",
     "output_type": "stream",
     "text": [
      "Тип боли в груди:  Типичная стенокардия\n"
     ]
    },
    {
     "name": "stdout",
     "output_type": "stream",
     "text": [
      "Доступные варианты для ЭКГ в покое: ['Нормальная', 'Аномалия ST-T', 'Гипертрофия ЛЖ']\n"
     ]
    },
    {
     "name": "stdin",
     "output_type": "stream",
     "text": [
      "ЭКГ в покое:  Нормальная\n"
     ]
    },
    {
     "name": "stdout",
     "output_type": "stream",
     "text": [
      "Доступные варианты для Стенокардия при нагрузке: ['Да', 'Нет']\n"
     ]
    },
    {
     "name": "stdin",
     "output_type": "stream",
     "text": [
      "Стенокардия при нагрузке:  Да\n"
     ]
    },
    {
     "name": "stdout",
     "output_type": "stream",
     "text": [
      "Доступные варианты для Наклон сегмента ST: ['Восходящий', 'Горизонтальный', 'Нисходящий']\n"
     ]
    },
    {
     "name": "stdin",
     "output_type": "stream",
     "text": [
      "Наклон сегмента ST:  Нисходящий\n"
     ]
    }
   ],
   "source": [
    "user_input = get_user_input()\n",
    "\n",
    "# One-Hot кодирование категориальных переменных\n",
    "user_input_encoded = pd.get_dummies(user_input, columns=unique_values.keys())\n",
    "\n",
    "# Добавление отсутствующих столбцов и упорядочивание столбцов\n",
    "missing_cols = set(feature_columns) - set(user_input_encoded.columns)\n",
    "for col in missing_cols:\n",
    "    user_input_encoded[col] = 0\n",
    "user_input_encoded = user_input_encoded[feature_columns]\n",
    "\n",
    "# Масштабирование данных\n",
    "user_input_scaled = scaler.transform(user_input_encoded)\n",
    "\n",
    "# Преобразование в тензор\n",
    "user_input_tensor = torch.tensor(user_input_scaled, dtype=torch.float32)"
   ]
  },
  {
   "cell_type": "markdown",
   "id": "ceb0901e-b296-452e-9eb1-075d50c70f91",
   "metadata": {},
   "source": [
    "## Шаг 4: Предсказание модели"
   ]
  },
  {
   "cell_type": "code",
   "execution_count": 24,
   "id": "00511503-f0aa-45e1-bfca-d0a428d64c94",
   "metadata": {},
   "outputs": [],
   "source": [
    "with torch.no_grad():\n",
    "    output = model(user_input_tensor)\n",
    "    prediction = (output > 0.5).float()\n",
    "    result = prediction.item()"
   ]
  },
  {
   "cell_type": "markdown",
   "id": "0f77377c-36e6-4cab-a2a2-e278a660c51d",
   "metadata": {},
   "source": [
    "## Шаг 5: Вывод результата"
   ]
  },
  {
   "cell_type": "code",
   "execution_count": 25,
   "id": "13137382-08c2-41b6-aee3-3feec8813145",
   "metadata": {},
   "outputs": [
    {
     "name": "stdout",
     "output_type": "stream",
     "text": [
      "\n",
      "Модель предсказывает: Вероятно наличие сердечного заболевания.\n"
     ]
    }
   ],
   "source": [
    "if result == 1.0:\n",
    "    print(\"\\nМодель предсказывает: Вероятно наличие сердечного заболевания.\")\n",
    "else:\n",
    "    print(\"\\nМодель предсказывает: Вероятно отсутствие сердечного заболевания.\")"
   ]
  }
 ],
 "metadata": {
  "kernelspec": {
   "display_name": "Python 3 (ipykernel)",
   "language": "python",
   "name": "python3"
  },
  "language_info": {
   "codemirror_mode": {
    "name": "ipython",
    "version": 3
   },
   "file_extension": ".py",
   "mimetype": "text/x-python",
   "name": "python",
   "nbconvert_exporter": "python",
   "pygments_lexer": "ipython3",
   "version": "3.12.3"
  }
 },
 "nbformat": 4,
 "nbformat_minor": 5
}
